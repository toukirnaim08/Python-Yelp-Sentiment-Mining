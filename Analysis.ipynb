{
 "cells": [
  {
   "cell_type": "markdown",
   "metadata": {},
   "source": [
    "### 1"
   ]
  },
  {
   "cell_type": "markdown",
   "metadata": {},
   "source": [
    "### Introduction"
   ]
  },
  {
   "cell_type": "markdown",
   "metadata": {},
   "source": [
    "This report contains information from Yelp which is an online portal where users can put reviews for many kinds of business organizations. Reviews are categorized based on star marks 1 to 5.\n",
    "1 or 2 stars is considered as negative and 4 or 5 is positive as well as 3 is neutral. This report will demonstrate the best business which has a maximum positive impression and business value. \n",
    "\n",
    "In addition, this report will find business chrematistics based on data visualizations and statistics. Every visualization will have a proper interpretation so that the real concept can be cleared.\n"
   ]
  },
  {
   "cell_type": "markdown",
   "metadata": {},
   "source": [
    "### 2"
   ]
  },
  {
   "cell_type": "code",
   "execution_count": 123,
   "metadata": {},
   "outputs": [],
   "source": [
    "#import pandas numpy seaborn and os\n",
    "import os\n",
    "import numpy as np\n",
    "import pandas as pd\n",
    "import seaborn as sns"
   ]
  },
  {
   "cell_type": "code",
   "execution_count": 124,
   "metadata": {},
   "outputs": [],
   "source": [
    "#loading working directory\n",
    "workingDirectory = os.getcwd()   \n",
    "#loading csv dataset using pandas\n",
    "data = pd.read_csv(workingDirectory + \"/desktop/Projects/UniSa/ProgrammingFOrData/Practice/yelp_reviews.csv\") "
   ]
  },
  {
   "cell_type": "code",
   "execution_count": 127,
   "metadata": {},
   "outputs": [
    {
     "data": {
      "text/html": [
       "<div>\n",
       "<style scoped>\n",
       "    .dataframe tbody tr th:only-of-type {\n",
       "        vertical-align: middle;\n",
       "    }\n",
       "\n",
       "    .dataframe tbody tr th {\n",
       "        vertical-align: top;\n",
       "    }\n",
       "\n",
       "    .dataframe thead th {\n",
       "        text-align: right;\n",
       "    }\n",
       "</style>\n",
       "<table border=\"1\" class=\"dataframe\">\n",
       "  <thead>\n",
       "    <tr style=\"text-align: right;\">\n",
       "      <th></th>\n",
       "      <th>user_id</th>\n",
       "      <th>business_id</th>\n",
       "      <th>date</th>\n",
       "      <th>stars</th>\n",
       "      <th>review_length</th>\n",
       "      <th>votes_funny</th>\n",
       "      <th>votes_useful</th>\n",
       "      <th>votes_cool</th>\n",
       "      <th>votes_total</th>\n",
       "      <th>pos_words</th>\n",
       "      <th>neg_words</th>\n",
       "      <th>net_sentiment</th>\n",
       "    </tr>\n",
       "  </thead>\n",
       "  <tbody>\n",
       "    <tr>\n",
       "      <th>0</th>\n",
       "      <td>Xqd0DzHaiyRqVH3WRG7hzg</td>\n",
       "      <td>vcNAWiLM4dR7D2nwwJ7nCA</td>\n",
       "      <td>2007-05-17</td>\n",
       "      <td>5</td>\n",
       "      <td>94</td>\n",
       "      <td>0</td>\n",
       "      <td>2</td>\n",
       "      <td>1</td>\n",
       "      <td>3</td>\n",
       "      <td>4</td>\n",
       "      <td>1</td>\n",
       "      <td>3</td>\n",
       "    </tr>\n",
       "    <tr>\n",
       "      <th>1</th>\n",
       "      <td>H1kH6QZV7Le4zqTRNxoZow</td>\n",
       "      <td>vcNAWiLM4dR7D2nwwJ7nCA</td>\n",
       "      <td>2010-03-22</td>\n",
       "      <td>2</td>\n",
       "      <td>114</td>\n",
       "      <td>0</td>\n",
       "      <td>2</td>\n",
       "      <td>0</td>\n",
       "      <td>2</td>\n",
       "      <td>3</td>\n",
       "      <td>7</td>\n",
       "      <td>-4</td>\n",
       "    </tr>\n",
       "    <tr>\n",
       "      <th>2</th>\n",
       "      <td>zvJCcrpm2yOZrxKffwGQLA</td>\n",
       "      <td>vcNAWiLM4dR7D2nwwJ7nCA</td>\n",
       "      <td>2012-02-14</td>\n",
       "      <td>4</td>\n",
       "      <td>55</td>\n",
       "      <td>0</td>\n",
       "      <td>1</td>\n",
       "      <td>1</td>\n",
       "      <td>2</td>\n",
       "      <td>6</td>\n",
       "      <td>0</td>\n",
       "      <td>6</td>\n",
       "    </tr>\n",
       "    <tr>\n",
       "      <th>3</th>\n",
       "      <td>KBLW4wJA_fwoWmMhiHRVOA</td>\n",
       "      <td>vcNAWiLM4dR7D2nwwJ7nCA</td>\n",
       "      <td>2012-03-02</td>\n",
       "      <td>4</td>\n",
       "      <td>97</td>\n",
       "      <td>0</td>\n",
       "      <td>0</td>\n",
       "      <td>0</td>\n",
       "      <td>0</td>\n",
       "      <td>3</td>\n",
       "      <td>0</td>\n",
       "      <td>3</td>\n",
       "    </tr>\n",
       "    <tr>\n",
       "      <th>4</th>\n",
       "      <td>zvJCcrpm2yOZrxKffwGQLA</td>\n",
       "      <td>vcNAWiLM4dR7D2nwwJ7nCA</td>\n",
       "      <td>2012-05-15</td>\n",
       "      <td>4</td>\n",
       "      <td>53</td>\n",
       "      <td>0</td>\n",
       "      <td>2</td>\n",
       "      <td>1</td>\n",
       "      <td>3</td>\n",
       "      <td>1</td>\n",
       "      <td>2</td>\n",
       "      <td>-1</td>\n",
       "    </tr>\n",
       "  </tbody>\n",
       "</table>\n",
       "</div>"
      ],
      "text/plain": [
       "                  user_id             business_id        date  stars  \\\n",
       "0  Xqd0DzHaiyRqVH3WRG7hzg  vcNAWiLM4dR7D2nwwJ7nCA  2007-05-17      5   \n",
       "1  H1kH6QZV7Le4zqTRNxoZow  vcNAWiLM4dR7D2nwwJ7nCA  2010-03-22      2   \n",
       "2  zvJCcrpm2yOZrxKffwGQLA  vcNAWiLM4dR7D2nwwJ7nCA  2012-02-14      4   \n",
       "3  KBLW4wJA_fwoWmMhiHRVOA  vcNAWiLM4dR7D2nwwJ7nCA  2012-03-02      4   \n",
       "4  zvJCcrpm2yOZrxKffwGQLA  vcNAWiLM4dR7D2nwwJ7nCA  2012-05-15      4   \n",
       "\n",
       "   review_length  votes_funny  votes_useful  votes_cool  votes_total  \\\n",
       "0             94            0             2           1            3   \n",
       "1            114            0             2           0            2   \n",
       "2             55            0             1           1            2   \n",
       "3             97            0             0           0            0   \n",
       "4             53            0             2           1            3   \n",
       "\n",
       "   pos_words  neg_words  net_sentiment  \n",
       "0          4          1              3  \n",
       "1          3          7             -4  \n",
       "2          6          0              6  \n",
       "3          3          0              3  \n",
       "4          1          2             -1  "
      ]
     },
     "execution_count": 127,
     "metadata": {},
     "output_type": "execute_result"
    }
   ],
   "source": [
    "#testing whether the dataset is loading correctly\n",
    "data[0:5]"
   ]
  },
  {
   "cell_type": "code",
   "execution_count": 107,
   "metadata": {},
   "outputs": [
    {
     "name": "stdout",
     "output_type": "stream",
     "text": [
      "(1569264, 12)\n",
      "366715\n",
      "60785\n",
      "2004-10-12\n",
      "2015-01-08\n"
     ]
    }
   ],
   "source": [
    "#printing basic information\n",
    "print(data.shape)\n",
    "print(data.user_id.nunique())\n",
    "print(data.business_id.nunique())\n",
    "print(data.date.min())\n",
    "print(data.date.max())"
   ]
  },
  {
   "cell_type": "markdown",
   "metadata": {},
   "source": [
    "This dataset has 1569264 rows and 12 columns. It has been covered from 12/10/2004 to 08/01/2015 and has 366715 unique respondents. In addition, it has information for 60785 businesses."
   ]
  },
  {
   "cell_type": "markdown",
   "metadata": {},
   "source": [
    "### 3"
   ]
  },
  {
   "cell_type": "code",
   "execution_count": 108,
   "metadata": {},
   "outputs": [],
   "source": [
    "#creating dataframe for stars, review_length, pos_words, neg_words and net_sentiment\n",
    "stat_summary_data = data.drop(['user_id','business_id','date','votes_funny',\n",
    "                   'votes_useful','votes_cool','votes_total'], axis=1)"
   ]
  },
  {
   "cell_type": "code",
   "execution_count": 109,
   "metadata": {},
   "outputs": [
    {
     "data": {
      "text/html": [
       "<div>\n",
       "<style scoped>\n",
       "    .dataframe tbody tr th:only-of-type {\n",
       "        vertical-align: middle;\n",
       "    }\n",
       "\n",
       "    .dataframe tbody tr th {\n",
       "        vertical-align: top;\n",
       "    }\n",
       "\n",
       "    .dataframe thead th {\n",
       "        text-align: right;\n",
       "    }\n",
       "</style>\n",
       "<table border=\"1\" class=\"dataframe\">\n",
       "  <thead>\n",
       "    <tr style=\"text-align: right;\">\n",
       "      <th></th>\n",
       "      <th>stars</th>\n",
       "      <th>review_length</th>\n",
       "      <th>pos_words</th>\n",
       "      <th>neg_words</th>\n",
       "      <th>net_sentiment</th>\n",
       "    </tr>\n",
       "  </thead>\n",
       "  <tbody>\n",
       "    <tr>\n",
       "      <th>0</th>\n",
       "      <td>5</td>\n",
       "      <td>94</td>\n",
       "      <td>4</td>\n",
       "      <td>1</td>\n",
       "      <td>3</td>\n",
       "    </tr>\n",
       "    <tr>\n",
       "      <th>1</th>\n",
       "      <td>2</td>\n",
       "      <td>114</td>\n",
       "      <td>3</td>\n",
       "      <td>7</td>\n",
       "      <td>-4</td>\n",
       "    </tr>\n",
       "  </tbody>\n",
       "</table>\n",
       "</div>"
      ],
      "text/plain": [
       "   stars  review_length  pos_words  neg_words  net_sentiment\n",
       "0      5             94          4          1              3\n",
       "1      2            114          3          7             -4"
      ]
     },
     "execution_count": 109,
     "metadata": {},
     "output_type": "execute_result"
    }
   ],
   "source": [
    "#testing whether the dataset is loading correctly\n",
    "stat_summary_data[0:2]"
   ]
  },
  {
   "cell_type": "code",
   "execution_count": 110,
   "metadata": {},
   "outputs": [
    {
     "data": {
      "text/html": [
       "<div>\n",
       "<style scoped>\n",
       "    .dataframe tbody tr th:only-of-type {\n",
       "        vertical-align: middle;\n",
       "    }\n",
       "\n",
       "    .dataframe tbody tr th {\n",
       "        vertical-align: top;\n",
       "    }\n",
       "\n",
       "    .dataframe thead th {\n",
       "        text-align: right;\n",
       "    }\n",
       "</style>\n",
       "<table border=\"1\" class=\"dataframe\">\n",
       "  <thead>\n",
       "    <tr style=\"text-align: right;\">\n",
       "      <th></th>\n",
       "      <th>stars</th>\n",
       "      <th>review_length</th>\n",
       "      <th>pos_words</th>\n",
       "      <th>neg_words</th>\n",
       "      <th>net_sentiment</th>\n",
       "    </tr>\n",
       "  </thead>\n",
       "  <tbody>\n",
       "    <tr>\n",
       "      <th>count</th>\n",
       "      <td>1,569,264.000</td>\n",
       "      <td>1,569,264.000</td>\n",
       "      <td>1,569,264.000</td>\n",
       "      <td>1,569,264.000</td>\n",
       "      <td>1,569,264.000</td>\n",
       "    </tr>\n",
       "    <tr>\n",
       "      <th>mean</th>\n",
       "      <td>3.743</td>\n",
       "      <td>125.601</td>\n",
       "      <td>7.072</td>\n",
       "      <td>2.550</td>\n",
       "      <td>4.522</td>\n",
       "    </tr>\n",
       "    <tr>\n",
       "      <th>std</th>\n",
       "      <td>1.311</td>\n",
       "      <td>115.498</td>\n",
       "      <td>5.927</td>\n",
       "      <td>3.250</td>\n",
       "      <td>5.240</td>\n",
       "    </tr>\n",
       "    <tr>\n",
       "      <th>min</th>\n",
       "      <td>1.000</td>\n",
       "      <td>0.000</td>\n",
       "      <td>0.000</td>\n",
       "      <td>0.000</td>\n",
       "      <td>-59.000</td>\n",
       "    </tr>\n",
       "    <tr>\n",
       "      <th>25%</th>\n",
       "      <td>3.000</td>\n",
       "      <td>48.000</td>\n",
       "      <td>3.000</td>\n",
       "      <td>0.000</td>\n",
       "      <td>1.000</td>\n",
       "    </tr>\n",
       "    <tr>\n",
       "      <th>50%</th>\n",
       "      <td>4.000</td>\n",
       "      <td>92.000</td>\n",
       "      <td>6.000</td>\n",
       "      <td>2.000</td>\n",
       "      <td>4.000</td>\n",
       "    </tr>\n",
       "    <tr>\n",
       "      <th>75%</th>\n",
       "      <td>5.000</td>\n",
       "      <td>165.000</td>\n",
       "      <td>9.000</td>\n",
       "      <td>4.000</td>\n",
       "      <td>7.000</td>\n",
       "    </tr>\n",
       "    <tr>\n",
       "      <th>max</th>\n",
       "      <td>5.000</td>\n",
       "      <td>1,047.000</td>\n",
       "      <td>94.000</td>\n",
       "      <td>65.000</td>\n",
       "      <td>80.000</td>\n",
       "    </tr>\n",
       "  </tbody>\n",
       "</table>\n",
       "</div>"
      ],
      "text/plain": [
       "              stars  review_length     pos_words     neg_words  net_sentiment\n",
       "count 1,569,264.000  1,569,264.000 1,569,264.000 1,569,264.000  1,569,264.000\n",
       "mean          3.743        125.601         7.072         2.550          4.522\n",
       "std           1.311        115.498         5.927         3.250          5.240\n",
       "min           1.000          0.000         0.000         0.000        -59.000\n",
       "25%           3.000         48.000         3.000         0.000          1.000\n",
       "50%           4.000         92.000         6.000         2.000          4.000\n",
       "75%           5.000        165.000         9.000         4.000          7.000\n",
       "max           5.000      1,047.000        94.000        65.000         80.000"
      ]
     },
     "execution_count": 110,
     "metadata": {},
     "output_type": "execute_result"
    }
   ],
   "source": [
    "#Generate statistical summary of dataframe with readable float value\n",
    "pd.options.display.float_format = '{:,.3f}'.format\n",
    "stat_summary_data.describe()"
   ]
  },
  {
   "cell_type": "markdown",
   "metadata": {},
   "source": [
    "From the above statistical summary, we have found that it has 1,569,264 values and the mean of stars is 3.74 and the median is 4.0. As stars are categorical data so we should consider median as average value. Therefore average of stars is 4.0. On the other hand, review_length is a numerical variable so in that case we should consider mean as average value but the difference between mean and median is large so we should consider median as average. so the average of review_length is 92.0. In this way, the average of pos_words, neg_words, net_sentiment are 7.0, 2.5 and 4.5 respectively."
   ]
  },
  {
   "cell_type": "markdown",
   "metadata": {},
   "source": [
    "### 4"
   ]
  },
  {
   "cell_type": "code",
   "execution_count": 111,
   "metadata": {},
   "outputs": [],
   "source": [
    "#creating dataframe for pos_words, neg_words and net_sentiment\n",
    "table_graph_data = data.drop(['user_id','business_id','date','stars','review_length','votes_funny',\n",
    "                   'votes_useful','votes_cool','votes_total'], axis=1)"
   ]
  },
  {
   "cell_type": "code",
   "execution_count": 112,
   "metadata": {},
   "outputs": [
    {
     "data": {
      "text/html": [
       "<div>\n",
       "<style scoped>\n",
       "    .dataframe tbody tr th:only-of-type {\n",
       "        vertical-align: middle;\n",
       "    }\n",
       "\n",
       "    .dataframe tbody tr th {\n",
       "        vertical-align: top;\n",
       "    }\n",
       "\n",
       "    .dataframe thead th {\n",
       "        text-align: right;\n",
       "    }\n",
       "</style>\n",
       "<table border=\"1\" class=\"dataframe\">\n",
       "  <thead>\n",
       "    <tr style=\"text-align: right;\">\n",
       "      <th></th>\n",
       "      <th>pos_words</th>\n",
       "      <th>neg_words</th>\n",
       "      <th>net_sentiment</th>\n",
       "    </tr>\n",
       "  </thead>\n",
       "  <tbody>\n",
       "    <tr>\n",
       "      <th>0</th>\n",
       "      <td>4</td>\n",
       "      <td>1</td>\n",
       "      <td>3</td>\n",
       "    </tr>\n",
       "    <tr>\n",
       "      <th>1</th>\n",
       "      <td>3</td>\n",
       "      <td>7</td>\n",
       "      <td>-4</td>\n",
       "    </tr>\n",
       "  </tbody>\n",
       "</table>\n",
       "</div>"
      ],
      "text/plain": [
       "   pos_words  neg_words  net_sentiment\n",
       "0          4          1              3\n",
       "1          3          7             -4"
      ]
     },
     "execution_count": 112,
     "metadata": {},
     "output_type": "execute_result"
    }
   ],
   "source": [
    "#testing whether the table is loading correctly\n",
    "table_graph_data[0:2]\n"
   ]
  },
  {
   "cell_type": "code",
   "execution_count": 113,
   "metadata": {},
   "outputs": [
    {
     "data": {
      "text/html": [
       "<div>\n",
       "<style scoped>\n",
       "    .dataframe tbody tr th:only-of-type {\n",
       "        vertical-align: middle;\n",
       "    }\n",
       "\n",
       "    .dataframe tbody tr th {\n",
       "        vertical-align: top;\n",
       "    }\n",
       "\n",
       "    .dataframe thead th {\n",
       "        text-align: right;\n",
       "    }\n",
       "</style>\n",
       "<table border=\"1\" class=\"dataframe\">\n",
       "  <thead>\n",
       "    <tr style=\"text-align: right;\">\n",
       "      <th></th>\n",
       "      <th>pos_words</th>\n",
       "      <th>neg_words</th>\n",
       "      <th>net_sentiment</th>\n",
       "    </tr>\n",
       "  </thead>\n",
       "  <tbody>\n",
       "    <tr>\n",
       "      <th>count</th>\n",
       "      <td>1,569,264.000</td>\n",
       "      <td>1,569,264.000</td>\n",
       "      <td>1,569,264.000</td>\n",
       "    </tr>\n",
       "    <tr>\n",
       "      <th>mean</th>\n",
       "      <td>7.072</td>\n",
       "      <td>2.550</td>\n",
       "      <td>4.522</td>\n",
       "    </tr>\n",
       "    <tr>\n",
       "      <th>std</th>\n",
       "      <td>5.927</td>\n",
       "      <td>3.250</td>\n",
       "      <td>5.240</td>\n",
       "    </tr>\n",
       "    <tr>\n",
       "      <th>min</th>\n",
       "      <td>0.000</td>\n",
       "      <td>0.000</td>\n",
       "      <td>-59.000</td>\n",
       "    </tr>\n",
       "    <tr>\n",
       "      <th>25%</th>\n",
       "      <td>3.000</td>\n",
       "      <td>0.000</td>\n",
       "      <td>1.000</td>\n",
       "    </tr>\n",
       "    <tr>\n",
       "      <th>50%</th>\n",
       "      <td>6.000</td>\n",
       "      <td>2.000</td>\n",
       "      <td>4.000</td>\n",
       "    </tr>\n",
       "    <tr>\n",
       "      <th>75%</th>\n",
       "      <td>9.000</td>\n",
       "      <td>4.000</td>\n",
       "      <td>7.000</td>\n",
       "    </tr>\n",
       "    <tr>\n",
       "      <th>max</th>\n",
       "      <td>94.000</td>\n",
       "      <td>65.000</td>\n",
       "      <td>80.000</td>\n",
       "    </tr>\n",
       "  </tbody>\n",
       "</table>\n",
       "</div>"
      ],
      "text/plain": [
       "          pos_words     neg_words  net_sentiment\n",
       "count 1,569,264.000 1,569,264.000  1,569,264.000\n",
       "mean          7.072         2.550          4.522\n",
       "std           5.927         3.250          5.240\n",
       "min           0.000         0.000        -59.000\n",
       "25%           3.000         0.000          1.000\n",
       "50%           6.000         2.000          4.000\n",
       "75%           9.000         4.000          7.000\n",
       "max          94.000        65.000         80.000"
      ]
     },
     "execution_count": 113,
     "metadata": {},
     "output_type": "execute_result"
    }
   ],
   "source": [
    "#Generate statistical summary of table\n",
    "table_graph_data.describe()"
   ]
  },
  {
   "cell_type": "code",
   "execution_count": 32,
   "metadata": {},
   "outputs": [
    {
     "data": {
      "text/plain": [
       "<matplotlib.axes._subplots.AxesSubplot at 0x1a2359b358>"
      ]
     },
     "execution_count": 32,
     "metadata": {},
     "output_type": "execute_result"
    },
    {
     "data": {
      "image/png": "[encoded data removed]",
      "text/plain": [
       "<Figure size 432x288 with 1 Axes>"
      ]
     },
     "metadata": {
      "needs_background": "light"
     },
     "output_type": "display_data"
    }
   ],
   "source": [
    "#creating histogram for pos_words\n",
    "sns.distplot(table_graph_data['pos_words'], kde=False, color='red', bins=50)"
   ]
  },
  {
   "cell_type": "code",
   "execution_count": 33,
   "metadata": {},
   "outputs": [
    {
     "data": {
      "text/plain": [
       "94"
      ]
     },
     "execution_count": 33,
     "metadata": {},
     "output_type": "execute_result"
    }
   ],
   "source": [
    "#maximum number of pos_words\n",
    "table_graph_data.pos_words.max()"
   ]
  },
  {
   "cell_type": "markdown",
   "metadata": {},
   "source": [
    "Graph has too long tails so for better visualisation we should consider truncating"
   ]
  },
  {
   "cell_type": "code",
   "execution_count": 45,
   "metadata": {},
   "outputs": [
    {
     "data": {
      "text/plain": [
       "<matplotlib.axes._subplots.AxesSubplot at 0x1a1d5dbc18>"
      ]
     },
     "execution_count": 45,
     "metadata": {},
     "output_type": "execute_result"
    },
    {
     "data": {
      "image/png": "[encoded data removed]",
      "text/plain": [
       "<Figure size 432x288 with 1 Axes>"
      ]
     },
     "metadata": {
      "needs_background": "light"
     },
     "output_type": "display_data"
    }
   ],
   "source": [
    "#for truncating we will filter only less than or equal to 40 data\n",
    "temp_posWord = table_graph_data['pos_words']\n",
    "temp_posWord = temp_posWord[temp_posWord <= 40]\n",
    "#creating histogram for filterd pos_words\n",
    "sns.distplot(temp_posWord, kde=False, color='red', bins=20)"
   ]
  },
  {
   "cell_type": "code",
   "execution_count": 37,
   "metadata": {},
   "outputs": [
    {
     "data": {
      "text/plain": [
       "<matplotlib.axes._subplots.AxesSubplot at 0x1a219d20b8>"
      ]
     },
     "execution_count": 37,
     "metadata": {},
     "output_type": "execute_result"
    },
    {
     "data": {
      "image/png": "[encoded data removed]",
      "text/plain": [
       "<Figure size 432x288 with 1 Axes>"
      ]
     },
     "metadata": {
      "needs_background": "light"
     },
     "output_type": "display_data"
    }
   ],
   "source": [
    "#creating histogram for neg_words\n",
    "sns.distplot(table_graph_data['neg_words'], kde=False, color='red', bins=100)"
   ]
  },
  {
   "cell_type": "code",
   "execution_count": 46,
   "metadata": {},
   "outputs": [
    {
     "data": {
      "text/plain": [
       "65"
      ]
     },
     "execution_count": 46,
     "metadata": {},
     "output_type": "execute_result"
    }
   ],
   "source": [
    "#maximum number of neg_words\n",
    "table_graph_data.neg_words.max()"
   ]
  },
  {
   "cell_type": "markdown",
   "metadata": {},
   "source": [
    "Graph has too long tails so for better visualisation we should consider truncating"
   ]
  },
  {
   "cell_type": "code",
   "execution_count": 47,
   "metadata": {},
   "outputs": [
    {
     "data": {
      "text/plain": [
       "<matplotlib.axes._subplots.AxesSubplot at 0x1a1d9f6198>"
      ]
     },
     "execution_count": 47,
     "metadata": {},
     "output_type": "execute_result"
    },
    {
     "data": {
      "image/png": "[encoded data removed]",
      "text/plain": [
       "<Figure size 432x288 with 1 Axes>"
      ]
     },
     "metadata": {
      "needs_background": "light"
     },
     "output_type": "display_data"
    }
   ],
   "source": [
    "#for truncating we will filter only less than or equal to 20 data\n",
    "temp_negWord = table_graph_data['neg_words']\n",
    "temp_negWord = temp_negWord[temp_negWord <= 20]\n",
    "#creating histogram for filterd neg_words\n",
    "sns.distplot(temp_negWord, kde=False, color='red', bins=20)"
   ]
  },
  {
   "cell_type": "code",
   "execution_count": 48,
   "metadata": {},
   "outputs": [
    {
     "data": {
      "text/plain": [
       "<matplotlib.axes._subplots.AxesSubplot at 0x1a1d9c9908>"
      ]
     },
     "execution_count": 48,
     "metadata": {},
     "output_type": "execute_result"
    },
    {
     "data": {
      "image/png": "[encoded data removed]",
      "text/plain": [
       "<Figure size 432x288 with 1 Axes>"
      ]
     },
     "metadata": {
      "needs_background": "light"
     },
     "output_type": "display_data"
    }
   ],
   "source": [
    "#creating histogram for net_sentiment\n",
    "sns.distplot(table_graph_data['net_sentiment'], kde=False, color='red', bins=100)"
   ]
  },
  {
   "cell_type": "code",
   "execution_count": 50,
   "metadata": {},
   "outputs": [
    {
     "name": "stdout",
     "output_type": "stream",
     "text": [
      "-59\n",
      "80\n"
     ]
    }
   ],
   "source": [
    "#maximum & minimum number of net_sentiment\n",
    "print(table_graph_data.net_sentiment.min())\n",
    "print(table_graph_data.net_sentiment.max())"
   ]
  },
  {
   "cell_type": "markdown",
   "metadata": {},
   "source": [
    "Graph has too long tails so for better visualisation we should consider truncating"
   ]
  },
  {
   "cell_type": "code",
   "execution_count": 52,
   "metadata": {},
   "outputs": [
    {
     "data": {
      "text/plain": [
       "<matplotlib.axes._subplots.AxesSubplot at 0x1a1df0d278>"
      ]
     },
     "execution_count": 52,
     "metadata": {},
     "output_type": "execute_result"
    },
    {
     "data": {
      "image/png": "[encoded data removed]",
      "text/plain": [
       "<Figure size 432x288 with 1 Axes>"
      ]
     },
     "metadata": {
      "needs_background": "light"
     },
     "output_type": "display_data"
    }
   ],
   "source": [
    "#for truncating we will filter only greater than or equal to -20 & less then or equal to 40 data\n",
    "temp_netSentiment = table_graph_data['net_sentiment']\n",
    "temp_netSentiment = temp_netSentiment[(temp_netSentiment >= -20) & (temp_netSentiment <= 40)]\n",
    "#creating histogram for filterd net_sentiment\n",
    "sns.distplot(temp_netSentiment, kde=False, color='red', bins=100)"
   ]
  },
  {
   "cell_type": "markdown",
   "metadata": {},
   "source": [
    "Both histograms of pos_words and neg_words are right skewed and the distribution is asymtrical. So the average of pos_words and neg_words will be medians in that case 6 and 2 respectively. From the observation we can see that most of values of pos_words are in between 0 and 10 whereas most of values of neg_words are in between 0 and 5. On the other hand, histogram of net_sentiment is almost symetrical so the avarge of net_sentiment will be mean value which is 4.522. Therefore we can say that the tendency of using positive word is higher then the negative words in review."
   ]
  },
  {
   "cell_type": "markdown",
   "metadata": {},
   "source": [
    "### 5"
   ]
  },
  {
   "cell_type": "code",
   "execution_count": 114,
   "metadata": {},
   "outputs": [],
   "source": [
    "#creating dataframe for stars and review length\n",
    "reviewLengthStar_data = data.drop(['user_id','business_id','date','votes_funny',\n",
    "                   'votes_useful','votes_cool','votes_total','pos_words',\n",
    "                   'neg_words','net_sentiment'], axis=1)"
   ]
  },
  {
   "cell_type": "code",
   "execution_count": 115,
   "metadata": {},
   "outputs": [
    {
     "name": "stdout",
     "output_type": "stream",
     "text": [
      "   stars  review_length\n",
      "0      5             94\n",
      "1      2            114\n"
     ]
    },
    {
     "data": {
      "text/plain": [
       "<matplotlib.axes._subplots.AxesSubplot at 0x1a23262cf8>"
      ]
     },
     "execution_count": 115,
     "metadata": {},
     "output_type": "execute_result"
    },
    {
     "data": {
      "image/png": "[encoded data removed]",
      "text/plain": [
       "<Figure size 432x288 with 1 Axes>"
      ]
     },
     "metadata": {
      "needs_background": "light"
     },
     "output_type": "display_data"
    }
   ],
   "source": [
    "#testing whether the table is loading correctly and checking the distribution of review_length\n",
    "print(reviewLengthStar_data[0:2])\n",
    "sns.distplot(reviewLengthStar_data['review_length'], kde=False, color='red', bins=100)"
   ]
  },
  {
   "cell_type": "code",
   "execution_count": 116,
   "metadata": {},
   "outputs": [
    {
     "data": {
      "text/plain": [
       "{1: Int64Index([      5,       8,      15,      16,      44,      45,      46,\n",
       "                  48,      53,     116,\n",
       "             ...\n",
       "             1569171, 1569172, 1569185, 1569200, 1569202, 1569215, 1569237,\n",
       "             1569257, 1569259, 1569262],\n",
       "            dtype='int64', length=159811),\n",
       " 2: Int64Index([      1,      12,      20,      40,      54,      59,      63,\n",
       "                  65,     107,     118,\n",
       "             ...\n",
       "             1569127, 1569129, 1569154, 1569156, 1569163, 1569168, 1569205,\n",
       "             1569231, 1569236, 1569242],\n",
       "            dtype='int64', length=140608),\n",
       " 3: Int64Index([     11,      14,      35,      38,      43,      56,      57,\n",
       "                  64,      70,      84,\n",
       "             ...\n",
       "             1569159, 1569170, 1569180, 1569188, 1569191, 1569199, 1569201,\n",
       "             1569209, 1569212, 1569263],\n",
       "            dtype='int64', length=222719),\n",
       " 4: Int64Index([      2,       3,       4,      13,      17,      18,      21,\n",
       "                  25,      28,      31,\n",
       "             ...\n",
       "             1569192, 1569198, 1569218, 1569223, 1569226, 1569233, 1569234,\n",
       "             1569235, 1569238, 1569241],\n",
       "            dtype='int64', length=466599),\n",
       " 5: Int64Index([      0,       6,       7,       9,      10,      19,      22,\n",
       "                  23,      24,      26,\n",
       "             ...\n",
       "             1569250, 1569251, 1569252, 1569253, 1569254, 1569255, 1569256,\n",
       "             1569258, 1569260, 1569261],\n",
       "            dtype='int64', length=579527)}"
      ]
     },
     "execution_count": 116,
     "metadata": {},
     "output_type": "execute_result"
    }
   ],
   "source": [
    "#groupby using stars\n",
    "reviewLengthStar_data.groupby('stars').groups"
   ]
  },
  {
   "cell_type": "code",
   "execution_count": 117,
   "metadata": {},
   "outputs": [],
   "source": [
    "#groupby and aggregating with mean standard deviation median quantile 1 and quantile 3\n",
    "def q1(x):\n",
    "    return x.quantile(0.25)\n",
    "\n",
    "def q2(x):\n",
    "    return x.quantile(0.75)\n",
    "temp_data = reviewLengthStar_data.groupby('stars').agg(['mean','std','median',q1,q2])\n"
   ]
  },
  {
   "cell_type": "code",
   "execution_count": 118,
   "metadata": {},
   "outputs": [
    {
     "data": {
      "text/html": [
       "<div>\n",
       "<style scoped>\n",
       "    .dataframe tbody tr th:only-of-type {\n",
       "        vertical-align: middle;\n",
       "    }\n",
       "\n",
       "    .dataframe tbody tr th {\n",
       "        vertical-align: top;\n",
       "    }\n",
       "\n",
       "    .dataframe thead tr th {\n",
       "        text-align: left;\n",
       "    }\n",
       "\n",
       "    .dataframe thead tr:last-of-type th {\n",
       "        text-align: right;\n",
       "    }\n",
       "</style>\n",
       "<table border=\"1\" class=\"dataframe\">\n",
       "  <thead>\n",
       "    <tr>\n",
       "      <th></th>\n",
       "      <th colspan=\"5\" halign=\"left\">review_length</th>\n",
       "    </tr>\n",
       "    <tr>\n",
       "      <th></th>\n",
       "      <th>mean</th>\n",
       "      <th>std</th>\n",
       "      <th>median</th>\n",
       "      <th>q1</th>\n",
       "      <th>q2</th>\n",
       "    </tr>\n",
       "    <tr>\n",
       "      <th>stars</th>\n",
       "      <th></th>\n",
       "      <th></th>\n",
       "      <th></th>\n",
       "      <th></th>\n",
       "      <th></th>\n",
       "    </tr>\n",
       "  </thead>\n",
       "  <tbody>\n",
       "    <tr>\n",
       "      <th>1</th>\n",
       "      <td>152.715</td>\n",
       "      <td>142.865</td>\n",
       "      <td>109</td>\n",
       "      <td>57</td>\n",
       "      <td>198</td>\n",
       "    </tr>\n",
       "    <tr>\n",
       "      <th>2</th>\n",
       "      <td>153.984</td>\n",
       "      <td>131.189</td>\n",
       "      <td>117</td>\n",
       "      <td>64</td>\n",
       "      <td>202</td>\n",
       "    </tr>\n",
       "    <tr>\n",
       "      <th>3</th>\n",
       "      <td>140.594</td>\n",
       "      <td>118.417</td>\n",
       "      <td>109</td>\n",
       "      <td>59</td>\n",
       "      <td>185</td>\n",
       "    </tr>\n",
       "    <tr>\n",
       "      <th>4</th>\n",
       "      <td>125.037</td>\n",
       "      <td>109.375</td>\n",
       "      <td>95</td>\n",
       "      <td>50</td>\n",
       "      <td>166</td>\n",
       "    </tr>\n",
       "    <tr>\n",
       "      <th>5</th>\n",
       "      <td>105.930</td>\n",
       "      <td>102.104</td>\n",
       "      <td>75</td>\n",
       "      <td>40</td>\n",
       "      <td>137</td>\n",
       "    </tr>\n",
       "  </tbody>\n",
       "</table>\n",
       "</div>"
      ],
      "text/plain": [
       "      review_length                        \n",
       "               mean     std median  q1   q2\n",
       "stars                                      \n",
       "1           152.715 142.865    109  57  198\n",
       "2           153.984 131.189    117  64  202\n",
       "3           140.594 118.417    109  59  185\n",
       "4           125.037 109.375     95  50  166\n",
       "5           105.930 102.104     75  40  137"
      ]
     },
     "execution_count": 118,
     "metadata": {},
     "output_type": "execute_result"
    }
   ],
   "source": [
    "#showing the table\n",
    "temp_data"
   ]
  },
  {
   "cell_type": "code",
   "execution_count": 77,
   "metadata": {},
   "outputs": [
    {
     "data": {
      "text/plain": [
       "Text(0, 0.5, 'Average')"
      ]
     },
     "execution_count": 77,
     "metadata": {},
     "output_type": "execute_result"
    },
    {
     "data": {
      "image/png": "[encoded data removed]",
      "text/plain": [
       "<Figure size 432x288 with 1 Axes>"
      ]
     },
     "metadata": {
      "needs_background": "light"
     },
     "output_type": "display_data"
    }
   ],
   "source": [
    "#plotting median value of review_length per star category\n",
    "ax = temp_data['review_length']['median'].plot(kind = 'bar')\n",
    "ax.set_ylabel('Average')"
   ]
  },
  {
   "cell_type": "code",
   "execution_count": 92,
   "metadata": {},
   "outputs": [
    {
     "name": "stdout",
     "output_type": "stream",
     "text": [
      "113.0\n",
      "85.0\n"
     ]
    }
   ],
   "source": [
    "# average review length of negative reviews and positive reviews\n",
    "negative_reviews_avarage_length = (temp_data['review_length']['median'].iloc[0] + \n",
    "                                    temp_data['review_length']['median'].iloc[1])/2\n",
    "positive_reviews_avarage_length = (temp_data['review_length']['median'].iloc[3] + \n",
    "                                    temp_data['review_length']['median'].iloc[4])/2\n",
    "print(negative_reviews_avarage_length)\n",
    "print(positive_reviews_avarage_length)"
   ]
  },
  {
   "cell_type": "markdown",
   "metadata": {},
   "source": [
    "From the observations, we have seen that the distribution of review_length is extremely right skewed and asymmetrical so we should consider median as average value. On the other hand, average review length of negative review is higher than the positive reviews. Therefore, users prefer writing big reviews for negative impressions rather than positive impressions."
   ]
  },
  {
   "cell_type": "markdown",
   "metadata": {},
   "source": [
    "### 6"
   ]
  },
  {
   "cell_type": "code",
   "execution_count": 94,
   "metadata": {},
   "outputs": [],
   "source": [
    "#creating dataframe for business_id, stars, review_length, pos_words, neg_words, net_sentiment\n",
    "BestBusiness_data = data.drop(['user_id','date','votes_funny',\n",
    "                   'votes_useful','votes_cool','votes_total'], axis=1)"
   ]
  },
  {
   "cell_type": "code",
   "execution_count": 95,
   "metadata": {},
   "outputs": [
    {
     "data": {
      "text/html": [
       "<div>\n",
       "<style scoped>\n",
       "    .dataframe tbody tr th:only-of-type {\n",
       "        vertical-align: middle;\n",
       "    }\n",
       "\n",
       "    .dataframe tbody tr th {\n",
       "        vertical-align: top;\n",
       "    }\n",
       "\n",
       "    .dataframe thead th {\n",
       "        text-align: right;\n",
       "    }\n",
       "</style>\n",
       "<table border=\"1\" class=\"dataframe\">\n",
       "  <thead>\n",
       "    <tr style=\"text-align: right;\">\n",
       "      <th></th>\n",
       "      <th>business_id</th>\n",
       "      <th>stars</th>\n",
       "      <th>review_length</th>\n",
       "      <th>pos_words</th>\n",
       "      <th>neg_words</th>\n",
       "      <th>net_sentiment</th>\n",
       "    </tr>\n",
       "  </thead>\n",
       "  <tbody>\n",
       "    <tr>\n",
       "      <th>0</th>\n",
       "      <td>vcNAWiLM4dR7D2nwwJ7nCA</td>\n",
       "      <td>5</td>\n",
       "      <td>94</td>\n",
       "      <td>4</td>\n",
       "      <td>1</td>\n",
       "      <td>3</td>\n",
       "    </tr>\n",
       "    <tr>\n",
       "      <th>1</th>\n",
       "      <td>vcNAWiLM4dR7D2nwwJ7nCA</td>\n",
       "      <td>2</td>\n",
       "      <td>114</td>\n",
       "      <td>3</td>\n",
       "      <td>7</td>\n",
       "      <td>-4</td>\n",
       "    </tr>\n",
       "  </tbody>\n",
       "</table>\n",
       "</div>"
      ],
      "text/plain": [
       "              business_id  stars  review_length  pos_words  neg_words  \\\n",
       "0  vcNAWiLM4dR7D2nwwJ7nCA      5             94          4          1   \n",
       "1  vcNAWiLM4dR7D2nwwJ7nCA      2            114          3          7   \n",
       "\n",
       "   net_sentiment  \n",
       "0              3  \n",
       "1             -4  "
      ]
     },
     "execution_count": 95,
     "metadata": {},
     "output_type": "execute_result"
    }
   ],
   "source": [
    "#testing whether the table is loading correctly\n",
    "BestBusiness_data[0:2]"
   ]
  },
  {
   "cell_type": "code",
   "execution_count": 119,
   "metadata": {},
   "outputs": [
    {
     "name": "stdout",
     "output_type": "stream",
     "text": [
      "counts    4137\n",
      "dtype: int64\n"
     ]
    }
   ],
   "source": [
    "#group by using business_id\n",
    "temp_BestBusiness_data = BestBusiness_data.groupby(['business_id'])\n",
    "#count the row to count maximum stars\n",
    "counts_data = temp_BestBusiness_data.size().to_frame(name='counts')\n",
    "#getting maximum number of stars\n",
    "print(counts_data.max())\n",
    "temp_all_data = (counts_data.join(temp_BestBusiness_data.agg({'stars': 'mean'}).rename(columns={'stars': 'stars_mean'}))\n",
    ".join(temp_BestBusiness_data.agg({'stars': 'median'}).rename(columns={'stars': 'stars_median'}))\n",
    ".join(temp_BestBusiness_data.agg({'review_length': 'mean'}).rename(columns={'review_length': 'review_length_mean'}))\n",
    ".join(temp_BestBusiness_data.agg({'review_length': 'median'}).rename(columns={'review_length': 'review_length_median'}))\n",
    ".join(temp_BestBusiness_data.agg({'pos_words': 'median'}).rename(columns={'pos_words': 'pos_words_median'}))\n",
    ".join(temp_BestBusiness_data.agg({'neg_words': 'median'}).rename(columns={'neg_words': 'neg_words_median'}))\n",
    ".join(temp_BestBusiness_data.agg({'net_sentiment': 'mean'}).rename(columns={'net_sentiment': 'net_sentiment_mean'}))\n",
    ".reset_index()\n",
    ")\n",
    " "
   ]
  },
  {
   "cell_type": "code",
   "execution_count": 120,
   "metadata": {},
   "outputs": [],
   "source": [
    "# sort data based on row counts\n",
    "sorted_data = temp_all_data.sort_values('counts',ascending=False)"
   ]
  },
  {
   "cell_type": "code",
   "execution_count": 121,
   "metadata": {
    "scrolled": true
   },
   "outputs": [
    {
     "data": {
      "text/html": [
       "<div>\n",
       "<style scoped>\n",
       "    .dataframe tbody tr th:only-of-type {\n",
       "        vertical-align: middle;\n",
       "    }\n",
       "\n",
       "    .dataframe tbody tr th {\n",
       "        vertical-align: top;\n",
       "    }\n",
       "\n",
       "    .dataframe thead th {\n",
       "        text-align: right;\n",
       "    }\n",
       "</style>\n",
       "<table border=\"1\" class=\"dataframe\">\n",
       "  <thead>\n",
       "    <tr style=\"text-align: right;\">\n",
       "      <th></th>\n",
       "      <th>business_id</th>\n",
       "      <th>counts</th>\n",
       "      <th>stars_mean</th>\n",
       "      <th>stars_median</th>\n",
       "      <th>review_length_mean</th>\n",
       "      <th>review_length_median</th>\n",
       "      <th>pos_words_median</th>\n",
       "      <th>neg_words_median</th>\n",
       "      <th>net_sentiment_mean</th>\n",
       "    </tr>\n",
       "  </thead>\n",
       "  <tbody>\n",
       "    <tr>\n",
       "      <th>5417</th>\n",
       "      <td>4bEjOyTaDG24SY5TxsaUNQ</td>\n",
       "      <td>4137</td>\n",
       "      <td>4.140</td>\n",
       "      <td>4.000</td>\n",
       "      <td>125.275</td>\n",
       "      <td>96.000</td>\n",
       "      <td>7.000</td>\n",
       "      <td>1.000</td>\n",
       "      <td>6.337</td>\n",
       "    </tr>\n",
       "    <tr>\n",
       "      <th>3554</th>\n",
       "      <td>2e2e7WgqU1BnpxmQL5jbfw</td>\n",
       "      <td>3517</td>\n",
       "      <td>4.306</td>\n",
       "      <td>5.000</td>\n",
       "      <td>98.495</td>\n",
       "      <td>81.000</td>\n",
       "      <td>5.000</td>\n",
       "      <td>1.000</td>\n",
       "      <td>4.156</td>\n",
       "    </tr>\n",
       "    <tr>\n",
       "      <th>60706</th>\n",
       "      <td>zt1TpTuJ6y9n551sw9TaEg</td>\n",
       "      <td>3352</td>\n",
       "      <td>3.750</td>\n",
       "      <td>4.000</td>\n",
       "      <td>148.947</td>\n",
       "      <td>115.000</td>\n",
       "      <td>7.000</td>\n",
       "      <td>3.000</td>\n",
       "      <td>4.966</td>\n",
       "    </tr>\n",
       "    <tr>\n",
       "      <th>33174</th>\n",
       "      <td>Xhg93cMdemu5pAMkDoEdtQ</td>\n",
       "      <td>2675</td>\n",
       "      <td>3.084</td>\n",
       "      <td>3.000</td>\n",
       "      <td>130.924</td>\n",
       "      <td>104.000</td>\n",
       "      <td>6.000</td>\n",
       "      <td>3.000</td>\n",
       "      <td>3.571</td>\n",
       "    </tr>\n",
       "    <tr>\n",
       "      <th>53623</th>\n",
       "      <td>sIyHTizqAiGu12XMLX3N3g</td>\n",
       "      <td>2657</td>\n",
       "      <td>3.877</td>\n",
       "      <td>4.000</td>\n",
       "      <td>183.342</td>\n",
       "      <td>140.000</td>\n",
       "      <td>7.000</td>\n",
       "      <td>2.000</td>\n",
       "      <td>6.026</td>\n",
       "    </tr>\n",
       "    <tr>\n",
       "      <th>33796</th>\n",
       "      <td>YNQgak-ZLtYJQxlDwN-qIg</td>\n",
       "      <td>2619</td>\n",
       "      <td>3.722</td>\n",
       "      <td>4.000</td>\n",
       "      <td>143.533</td>\n",
       "      <td>116.000</td>\n",
       "      <td>7.000</td>\n",
       "      <td>2.000</td>\n",
       "      <td>5.236</td>\n",
       "    </tr>\n",
       "    <tr>\n",
       "      <th>54483</th>\n",
       "      <td>tFU2Js_nbIZOrnKfYJYBBg</td>\n",
       "      <td>2337</td>\n",
       "      <td>3.998</td>\n",
       "      <td>4.000</td>\n",
       "      <td>166.990</td>\n",
       "      <td>129.000</td>\n",
       "      <td>8.000</td>\n",
       "      <td>2.000</td>\n",
       "      <td>6.958</td>\n",
       "    </tr>\n",
       "    <tr>\n",
       "      <th>36507</th>\n",
       "      <td>aGbjLWzcrnEx2ZmMCFm3EA</td>\n",
       "      <td>2269</td>\n",
       "      <td>3.869</td>\n",
       "      <td>4.000</td>\n",
       "      <td>155.506</td>\n",
       "      <td>114.000</td>\n",
       "      <td>7.000</td>\n",
       "      <td>2.000</td>\n",
       "      <td>5.910</td>\n",
       "    </tr>\n",
       "    <tr>\n",
       "      <th>13008</th>\n",
       "      <td>CZjcFdvJhksq9dy58NVEzw</td>\n",
       "      <td>2252</td>\n",
       "      <td>3.593</td>\n",
       "      <td>4.000</td>\n",
       "      <td>128.049</td>\n",
       "      <td>103.000</td>\n",
       "      <td>6.000</td>\n",
       "      <td>2.000</td>\n",
       "      <td>4.121</td>\n",
       "    </tr>\n",
       "    <tr>\n",
       "      <th>11453</th>\n",
       "      <td>AtjsjFzalWqJ7S9DUFQ4bw</td>\n",
       "      <td>2241</td>\n",
       "      <td>3.950</td>\n",
       "      <td>4.000</td>\n",
       "      <td>185.927</td>\n",
       "      <td>134.000</td>\n",
       "      <td>8.000</td>\n",
       "      <td>2.000</td>\n",
       "      <td>6.537</td>\n",
       "    </tr>\n",
       "  </tbody>\n",
       "</table>\n",
       "</div>"
      ],
      "text/plain": [
       "                  business_id  counts  stars_mean  stars_median  \\\n",
       "5417   4bEjOyTaDG24SY5TxsaUNQ    4137       4.140         4.000   \n",
       "3554   2e2e7WgqU1BnpxmQL5jbfw    3517       4.306         5.000   \n",
       "60706  zt1TpTuJ6y9n551sw9TaEg    3352       3.750         4.000   \n",
       "33174  Xhg93cMdemu5pAMkDoEdtQ    2675       3.084         3.000   \n",
       "53623  sIyHTizqAiGu12XMLX3N3g    2657       3.877         4.000   \n",
       "33796  YNQgak-ZLtYJQxlDwN-qIg    2619       3.722         4.000   \n",
       "54483  tFU2Js_nbIZOrnKfYJYBBg    2337       3.998         4.000   \n",
       "36507  aGbjLWzcrnEx2ZmMCFm3EA    2269       3.869         4.000   \n",
       "13008  CZjcFdvJhksq9dy58NVEzw    2252       3.593         4.000   \n",
       "11453  AtjsjFzalWqJ7S9DUFQ4bw    2241       3.950         4.000   \n",
       "\n",
       "       review_length_mean  review_length_median  pos_words_median  \\\n",
       "5417              125.275                96.000             7.000   \n",
       "3554               98.495                81.000             5.000   \n",
       "60706             148.947               115.000             7.000   \n",
       "33174             130.924               104.000             6.000   \n",
       "53623             183.342               140.000             7.000   \n",
       "33796             143.533               116.000             7.000   \n",
       "54483             166.990               129.000             8.000   \n",
       "36507             155.506               114.000             7.000   \n",
       "13008             128.049               103.000             6.000   \n",
       "11453             185.927               134.000             8.000   \n",
       "\n",
       "       neg_words_median  net_sentiment_mean  \n",
       "5417              1.000               6.337  \n",
       "3554              1.000               4.156  \n",
       "60706             3.000               4.966  \n",
       "33174             3.000               3.571  \n",
       "53623             2.000               6.026  \n",
       "33796             2.000               5.236  \n",
       "54483             2.000               6.958  \n",
       "36507             2.000               5.910  \n",
       "13008             2.000               4.121  \n",
       "11453             2.000               6.537  "
      ]
     },
     "execution_count": 121,
     "metadata": {},
     "output_type": "execute_result"
    }
   ],
   "source": [
    "# showing data with maximum values\n",
    "sorted_data[0:10]"
   ]
  },
  {
   "cell_type": "markdown",
   "metadata": {},
   "source": [
    "From the above table we are seeing that maximum number of reviews are in top 2 or 3 businesses which are 4137, 3517, 3352 respectively where average stars are 4 or 5. 4 and 5 both are positive reviews and relatively good average review lengths are 96, 81 and 115 respectivelyBut the third one has higher negative review than first two rows. so from my opinion top 2 have the best business modelscause they have stars 4 or 5 and good review length and in reviewhigher positive words than negative words. Therefor, the best businesses are with business id's '4bEjOyTaDG24SY5TxsaUNQ' and '2e2e7WgqU1BnpxmQL5jbfw'."
   ]
  }
 ],
 "metadata": {
  "kernelspec": {
   "display_name": "Python 3",
   "language": "python",
   "name": "python3"
  },
  "language_info": {
   "codemirror_mode": {
    "name": "ipython",
    "version": 3
   },
   "file_extension": ".py",
   "mimetype": "text/x-python",
   "name": "python",
   "nbconvert_exporter": "python",
   "pygments_lexer": "ipython3",
   "version": "3.7.1"
  }
 },
 "nbformat": 4,
 "nbformat_minor": 2
}
